{
 "metadata": {
  "language_info": {
   "codemirror_mode": {
    "name": "ipython",
    "version": 3
   },
   "file_extension": ".py",
   "mimetype": "text/x-python",
   "name": "python",
   "nbconvert_exporter": "python",
   "pygments_lexer": "ipython3",
   "version": "3.8.5"
  },
  "orig_nbformat": 2,
  "kernelspec": {
   "name": "python3",
   "display_name": "Python 3.8.5 64-bit",
   "metadata": {
    "interpreter": {
     "hash": "df0893f56f349688326838aaeea0de204df53a132722cbd565e54b24a8fec5f6"
    }
   }
  }
 },
 "nbformat": 4,
 "nbformat_minor": 2,
 "cells": [
  {
   "source": [
    "<h1>ΚΑΝΟΝΙΚΕΣ ΕΚΦΡΑΣΕΙΣ</h1>\n",
    "<b>Ασκήσεις από:https://www.w3resource.com/python-exercises/re/</b><br>\n",
    "<b>Ασκήσεις από e-class(Χρήστος Γκόγκος):https://www.dit.uoi.gr/e-class/modules/document/?course=238</b><br>\n",
    "<b style=\"color:red; text-decoration:underline;\">Συγγραφή:Nastos Vasileios</b><br>\n",
    "<i>Τμήμα πληροφορικής και τηλεπικοινωνιών</i><br>\n",
    "<hr>\n"
   ],
   "cell_type": "markdown",
   "metadata": {}
  },
  {
   "source": [
    "<h3>1.Write a Python program to search a literals \n",
    "    string in a string and also find the location within the original string where the pattern occurs.</h3>\n",
    "    <hr>"
   ],
   "cell_type": "markdown",
   "metadata": {}
  },
  {
   "cell_type": "code",
   "execution_count": null,
   "metadata": {},
   "outputs": [],
   "source": [
    "def one():\n",
    "    #\n",
    "    inp='The quick brown fox jumps over the lazy dog.'\n",
    "    searchtext='fox'\n",
    "    pattern=re.compile('fox')\n",
    "    data=pattern.findall(inp)\n",
    "    print('fox occurences:'+str(len(data)))\n",
    "    index=inp.find('fox')\n",
    "one()"
   ]
  },
  {
   "source": [
    "<h3>2.Write a Python program that matches a word at the end of string, with optional punctuation.</h3><hr>"
   ],
   "cell_type": "markdown",
   "metadata": {}
  },
  {
   "cell_type": "code",
   "execution_count": null,
   "metadata": {},
   "outputs": [],
   "source": [
    "def two():\n",
    "    import requests as r\n",
    "    import termcolor as tm\n",
    "    text='ing'\n",
    "    data=[x for y in r.get('https://www.gutenberg.org/cache/epub/61213/pg61213.txt').text.split('\\n') for x in y.splt()]\n",
    "    for k in data:\n",
    "        if re.match(f'.*{text}$',k):\n",
    "            tm.cprint(f'Matched found:{k}','green')\n",
    "        else:\n",
    "            tm.cprint(f'Word:{k}','red')\n",
    "two()"
   ]
  },
  {
   "source": [
    "<h3>3.Write a Python program that matches a string that has an a followed by zero or one 'b'</h3><hr>"
   ],
   "cell_type": "markdown",
   "metadata": {}
  },
  {
   "cell_type": "code",
   "execution_count": null,
   "metadata": {},
   "outputs": [],
   "source": [
    "def three():\n",
    "    inputtable=['apo','abbbb','a','m','ab','b','abn']\n",
    "    import termcolor as tm\n",
    "    for x in inputtable:\n",
    "        if re.match('ab?$',x):\n",
    "            tm.cprint('Match Found:'+str(x),'green')\n",
    "        else:\n",
    "            tm.cprint('Word:'+str(x),'red')\n",
    "three()"
   ]
  },
  {
   "source": [
    "<h3>4.Write a Python program to find class C IP addresses</h3><hr>"
   ],
   "cell_type": "markdown",
   "metadata": {}
  },
  {
   "cell_type": "code",
   "execution_count": null,
   "metadata": {},
   "outputs": [],
   "source": [
    "def four():\n",
    "    import termcolor as tm\n",
    "    with open('ips.data','r') as f:\n",
    "        pattern='[1][9][2-9]|[2]([01][0-9]|[2][0-2])\\.([1-9][0-9]?|[1][0-9][0-9]|2([0-4][0-9]|5[0-5])\\.([1-9][0-9]?|[1][0-9][0-9]|2([0-4][0-9]|5[0-5])\\.([1-9][0-9]?|[1][0-9][0-9]|2([0-4][0-9]|5[0-5])'\n",
    "        data=[x.strip() for x in f.readlines()]\n",
    "        for x in data:\n",
    "            if re.match(pattern,x):\n",
    "                tm.cprint(f'Class c:{x}','green')\n",
    "four()"
   ]
  },
  {
   "source": [
    "<h3>5.Υποθετικός κωδικός που αποτελείται από 5 ζεύγη ψηφίου και λατινικού γράμματος (π.χ. 2a7w9u4z8k)</h3><hr>"
   ],
   "cell_type": "markdown",
   "metadata": {}
  },
  {
   "cell_type": "code",
   "execution_count": null,
   "metadata": {},
   "outputs": [],
   "source": [
    "def five():\n",
    "    pattern='([0-9][a-zA-Z]){5}'\n",
    "    for x in ['1y6r7t8U9P','a^78IOPl','8t9i7l5r4t','2b9n0m8v7b','asdfg7jk9','as567w2rt4','alkso0981','aw3456yuiq','1a2b3c4d5E','sgkdghasfdasd']:\n",
    "        if re.match(pattern,x):\n",
    "            print(x)\n",
    "five()"
   ]
  },
  {
   "source": [
    "<h3>6.Διευθύνσεις email αποτελούμενες από το αναγνωριστικό χρήστη το σύμβολο @ και τον τομέα (θεωρείστε ότι επιτρεπόμενοι χαρακτήρες τόσο στο αναγνωριστικό όσο και στον τομέα είναι τα πεζά και κεφαλαία γράμματατης λατινικής αλφαβήτου και τα ψηφία. Το τελευταίο τμήμα του τομέα να αποτελείται από 2 ή 3 γράμματα τουλατινικού αλφαβήτου)</h3><hr>"
   ],
   "cell_type": "markdown",
   "metadata": {}
  },
  {
   "cell_type": "code",
   "execution_count": null,
   "metadata": {},
   "outputs": [],
   "source": [
    "def six():\n",
    "    import termcolor as tm\n",
    "    pattern='[A-Za-z].+@[A-Za-z].+\\.[a-z]{2,3}'\n",
    "    mails=[\n",
    "        '0shawneel@mracc.it',\n",
    "    'nkristen.iraqev@tahuisi.buzz',\n",
    "    'alamont7@totalfanhub.com',\n",
    "    'yal7@superhostformula.com','iamine.shfanio@shutenk-shop.com',\n",
    "'ethaynara.rodrigt@fontspring.net',\n",
    "    'nnacermadrid_122s@49com.com',\n",
    "    'qamrmora568b@ijptm.com',\n",
    "    'qmomod@ronell.me'\n",
    "    'qmomod@ronell.buzz'\n",
    "    ]\n",
    "    for x in mails:\n",
    "      if re.match(pattern,x):\n",
    "        tm.cprint(x,'green')\n",
    "      else:\n",
    "          tm.cprint(x,'red')\n",
    "six()"
   ]
  },
  {
   "source": [
    "<h3>7.Αριθμοί πιστωτικών καρτών που αποτελούνται από 4 ομάδες των 4 ψηφίων που χωρίζονται μεταξύ τους με κενό, παύλα, κόμμα ή τίποτε (π.χ. 1234 5678 9012 3456 ή 1234­5678­9012­3456 ή 1234,5678,9012,3456 ή1234567890123456).</h3><hr>"
   ],
   "cell_type": "markdown",
   "metadata": {}
  },
  {
   "cell_type": "code",
   "execution_count": 27,
   "metadata": {},
   "outputs": [
    {
     "output_type": "stream",
     "name": "stdout",
     "text": [
      "1234 5678 9012 3456\n1234,5678,9012,3456\n"
     ]
    }
   ],
   "source": [
    "import re\n",
    "def seven():\n",
    "    pattern='\\d{4}[ ,-]\\d{4}[ ,-]\\d{4}[ ,-]\\d{4}'\n",
    "    checks=['1234 5678 9012 3456','1234­5678­9012­3456','assasasas11121221','1234,5678,9012,3456','a123456789020987','1234-­5678-­9012-­3456']\n",
    "    for x in checks:\n",
    "        if re.match(pattern,x):\n",
    "            print(x)\n",
    "seven()"
   ]
  },
  {
   "cell_type": "code",
   "execution_count": null,
   "metadata": {},
   "outputs": [],
   "source": []
  }
 ]
}